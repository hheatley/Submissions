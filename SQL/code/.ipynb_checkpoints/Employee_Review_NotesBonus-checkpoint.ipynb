{
 "cells": [
  {
   "cell_type": "markdown",
   "metadata": {},
   "source": [
    "# Employee Database: A Mystery in Two Parts\n",
    "\n",
    "## Background\n",
    "\n",
    "#It is a beautiful spring day, and it is two weeks since you have been hired as a new data engineer at Pewlett Hackard. Your first major task is a research project on employees of the corporation from the 1980s and 1990s. All that remain of the database of employees from that period are six CSV files.\n",
    "\n",
    "#In this assignment, you will design the tables to hold data in the CSVs, import the CSVs into a SQL database, and answer questions about the data. In other words, you will perform:\n",
    "\n",
    "#1. Data Modeling\n",
    "#2. Data Engineering\n",
    "#3. Data Analysis"
   ]
  },
  {
   "cell_type": "markdown",
   "metadata": {},
   "source": [
    "## Instructions\n",
    "\n",
    "#### Data Modeling"
   ]
  },
  {
   "cell_type": "code",
   "execution_count": null,
   "metadata": {},
   "outputs": [],
   "source": [
    "#Inspect the CSVs and sketch out an ERD of the tables. Feel free to use a tool like [http://www.quickdatabasediagrams.com](http://www.quickdatabasediagrams.com).\n",
    "\n",
    "#A. create sketch - See employee_ERD.txt\n",
    "#B. copy txt sketch into quickdatabasediagrams.com\n",
    "#C. Create a `.sql` file of your table schemata.\n",
    "#D. export the diagram as a PostgreSQ (.sql) file - see code / QuickDBD-Employee_ERD.sql\n",
    "\n",
    "#Create an image file of your ERD.\n",
    "\n",
    "#E. export the diagram as a .png file - see results / QuickDBD-Employee_ERD.png"
   ]
  },
  {
   "cell_type": "markdown",
   "metadata": {},
   "source": [
    "#### Data Engineering\n",
    "\n",
    "Use the information you have to create a table schema for each of the six CSV files. Remember to specify data types, primary keys, foreign keys, and other constraints."
   ]
  },
  {
   "cell_type": "code",
   "execution_count": null,
   "metadata": {},
   "outputs": [],
   "source": [
    "#Import each CSV file into the corresponding SQL table.\n",
    "\n",
    "#F. Create new Postgres database in pgAdmin\n",
    "#G. Run QuickDBD-Employee_ERD.sql in Query tool to create all tables\n",
    "#H. Import csv files to each table (in correct order)"
   ]
  },
  {
   "cell_type": "markdown",
   "metadata": {},
   "source": [
    "#### Data Analysis\n",
    "\n",
    "Once you have a complete database, do the following:"
   ]
  },
  {
   "cell_type": "code",
   "execution_count": null,
   "metadata": {},
   "outputs": [],
   "source": [
    "#List the following details of each employee: employee number, last name, first name, gender, and salary.\n",
    "#I.  Done via INNER JOIN between Employees and Salaries tables, creating an Emp_Salaries view\n",
    "\n",
    "#List employees who were hired in 1986.\n",
    "#J. Done via WHERE EXTRACT on Employees table, creating a Eighty_Six_Hires view \n",
    "\n",
    "#List the manager of each department with the following information: department number, department name, \n",
    "#the manager's employee number, last name, first name, and start and end employment dates.\n",
    "#K.  Done via creating a Dept_Emp_Detail view via INNER JOIN between Dept, Dept Emp, and Dept tables to obtain obtain overall employee employment detail\n",
    "#L. Plan to use table as shortcut to create subqueries\n",
    "#L. Then LEFT JOIN between Dept Mgr table and Dept_Emp_Detail view to obtain Managers' employment detail\n",
    "\n",
    "#List the department of each employee with the following information: employee number, last name, first name, and department name.\n",
    "#M. Done above in Dept_Emp_Detail above in order to create a shortcut for subsequent subqueries\n",
    "\n",
    "#List all employees whose first name is \"Hercules\" and last names begin with \"B.\"\n",
    "#N. see \"Hercules_B_Emps\" view\n",
    "\n",
    "#List all employees in the Sales department, including their employee number, last name, first name, and department name.\n",
    "#O. see Sales_Team view\n",
    "\n",
    "#List all employees in the Sales and Development departments, including their employee number, last name, first name, and department name.\n",
    "#P. see Sales_and_Dev_Teams view\n",
    "\n",
    "#In descending order, list the frequency count of employee last names, i.e., how many employees share each last name.\n",
    "#Q. see Last_Name_Frequency view\n",
    "\n",
    "#Create a `.sql` file of your queries.\n",
    "#R.  see Data_Analysis.sql"
   ]
  },
  {
   "cell_type": "markdown",
   "metadata": {},
   "source": [
    "## Bonus (Optional)\n",
    "\n",
    "As you examine the data, you are overcome with a creeping suspicion that the dataset is fake. You surmise that your boss handed you spurious data in order to test the data engineering skills of a new employee. To confirm your hunch, you decide to take the following steps to generate a visualization of the data, with which you will confront your boss:"
   ]
  },
  {
   "cell_type": "code",
   "execution_count": null,
   "metadata": {},
   "outputs": [],
   "source": [
    "#Import the SQL database into Pandas. (Yes, you could read the CSVs directly in Pandas, but you are, after all, trying to prove your technical mettle.) This step may require some research. Feel free to use the code below to get started. Be sure to make any necessary modifications for your username, password, host, port, and database name:\n",
    "\n",
    "   ```sql\n",
    "   from sqlalchemy import create_engine\n",
    "   engine = create_engine('postgresql://localhost:5432/<your_db_name>')\n",
    "   connection = engine.connect()\n",
    "   ```\n",
    "\n",
    "#Consult [SQLAlchemy documentation](https://docs.sqlalchemy.org/en/latest/core/engines.html#postgresql) for more information.\n",
    "\n",
    "#If using a password, do not upload your password to your GitHub repository. See [https://www.youtube.com/watch?v=2uaTPmNvH0I](https://www.youtube.com/watch?v=2uaTPmNvH0I) and [https://martin-thoma.com/configuration-files-in-python/](https://martin-thoma.com/configuration-files-in-python/) for more information.\n",
    "\n",
    "#Create a bar chart of average salary by title.\n",
    "\n",
    "#You may also include a technical report in markdown format, in which you outline the data engineering steps taken in the homework assignment.\n",
    "\n",
    "#(Optional) Create a Jupyter Notebook of the bonus analysis."
   ]
  },
  {
   "cell_type": "markdown",
   "metadata": {},
   "source": [
    "## Technical Report"
   ]
  },
  {
   "cell_type": "markdown",
   "metadata": {},
   "source": [
    "## Epilogue\n",
    "\n",
    "Evidence in hand, you march into your boss's office and present the visualization. With a sly grin, your boss thanks you for your work. On your way out of the office, you hear the words, \"Search your ID number.\" You look down at your badge to see that your employee ID number is 499942.\n"
   ]
  },
  {
   "cell_type": "markdown",
   "metadata": {},
   "source": [
    "## Submission"
   ]
  },
  {
   "cell_type": "code",
   "execution_count": null,
   "metadata": {},
   "outputs": [],
   "source": [
    "#Create and upload a repository with the above files to GitHub and post a link on BootCamp Spot."
   ]
  }
 ],
 "metadata": {
  "kernelspec": {
   "display_name": "Python 36 (py36)",
   "language": "python",
   "name": "py36"
  },
  "language_info": {
   "codemirror_mode": {
    "name": "ipython",
    "version": 3
   },
   "file_extension": ".py",
   "mimetype": "text/x-python",
   "name": "python",
   "nbconvert_exporter": "python",
   "pygments_lexer": "ipython3",
   "version": "3.6.8"
  }
 },
 "nbformat": 4,
 "nbformat_minor": 2
}
