{
 "cells": [
  {
   "cell_type": "markdown",
   "metadata": {},
   "source": [
    "# Scrape all NYC CitiBike trip data zips from CitiBike webpage"
   ]
  },
  {
   "cell_type": "code",
   "execution_count": 3,
   "metadata": {},
   "outputs": [
    {
     "data": {
      "text/plain": [
       "['201306-citibike-tripdata.zip',\n",
       " '201307-201402-citibike-tripdata.zip',\n",
       " '201307-citibike-tripdata.zip',\n",
       " '201308-citibike-tripdata.zip',\n",
       " '201309-citibike-tripdata.zip',\n",
       " '201310-citibike-tripdata.zip',\n",
       " '201311-citibike-tripdata.zip',\n",
       " '201312-citibike-tripdata.zip',\n",
       " '201401-citibike-tripdata.zip',\n",
       " '201402-citibike-tripdata.zip',\n",
       " '201403-citibike-tripdata.zip',\n",
       " '201404-citibike-tripdata.zip',\n",
       " '201405-citibike-tripdata.zip',\n",
       " '201406-citibike-tripdata.zip',\n",
       " '201407-citibike-tripdata.zip',\n",
       " '201408-citibike-tripdata.zip',\n",
       " '201409-citibike-tripdata.zip',\n",
       " '201410-citibike-tripdata.zip',\n",
       " '201411-citibike-tripdata.zip',\n",
       " '201412-citibike-tripdata.zip',\n",
       " '201501-citibike-tripdata.zip',\n",
       " '201502-citibike-tripdata.zip',\n",
       " '201503-citibike-tripdata.zip',\n",
       " '201504-citibike-tripdata.zip',\n",
       " '201505-citibike-tripdata.zip',\n",
       " '201506-citibike-tripdata.zip',\n",
       " '201507-citibike-tripdata.zip',\n",
       " '201508-citibike-tripdata.zip',\n",
       " '201509-citibike-tripdata.zip',\n",
       " '201510-citibike-tripdata.zip',\n",
       " '201511-citibike-tripdata.zip',\n",
       " '201512-citibike-tripdata.zip',\n",
       " '201601-citibike-tripdata.zip',\n",
       " '201602-citibike-tripdata.zip',\n",
       " '201603-citibike-tripdata.zip',\n",
       " '201604-citibike-tripdata.zip',\n",
       " '201605-citibike-tripdata.zip',\n",
       " '201606-citibike-tripdata.zip',\n",
       " '201607-citibike-tripdata.zip',\n",
       " '201608-citibike-tripdata.zip',\n",
       " '201609-citibike-tripdata.zip',\n",
       " '201610-citibike-tripdata.zip',\n",
       " '201611-citibike-tripdata.zip',\n",
       " '201612-citibike-tripdata.zip',\n",
       " '201701-citibike-tripdata.csv.zip',\n",
       " '201702-citibike-tripdata.csv.zip',\n",
       " '201703-citibike-tripdata.csv.zip',\n",
       " '201704-citibike-tripdata.csv.zip',\n",
       " '201705-citibike-tripdata.csv.zip',\n",
       " '201706-citibike-tripdata.csv.zip',\n",
       " '201707-citibike-tripdata.csv.zip',\n",
       " '201708-citibike-tripdata.csv.zip',\n",
       " '201709-citibike-tripdata.csv.zip',\n",
       " '201710-citibike-tripdata.csv.zip',\n",
       " '201711-citibike-tripdata.csv.zip',\n",
       " '201712-citibike-tripdata.csv.zip',\n",
       " '201801-citibike-tripdata.csv.zip',\n",
       " '201802-citibike-tripdata.csv.zip',\n",
       " '201803-citibike-tripdata.csv.zip',\n",
       " '201804-citibike-tripdata.csv.zip',\n",
       " '201805-citibike-tripdata.csv.zip',\n",
       " '201806-citibike-tripdata.csv.zip',\n",
       " '201807-citibike-tripdata.csv.zip',\n",
       " '201808-citibike-tripdata.csv.zip',\n",
       " '201809-citibike-tripdata.csv.zip',\n",
       " '201810-citibike-tripdata.csv.zip',\n",
       " '201811-citibike-tripdata.csv.zip',\n",
       " '201812-citibike-tripdata.csv.zip',\n",
       " '201901-citibike-tripdata.csv.zip',\n",
       " '201902-citibike-tripdata.csv.zip',\n",
       " '201903-citibike-tripdata.csv.zip',\n",
       " '201904-citibike-tripdata.csv.zip',\n",
       " '201905-citibike-tripdata.csv.zip',\n",
       " '201906-citibike-tripdata.csv.zip',\n",
       " '201907-citibike-tripdata.csv.zip',\n",
       " '201908-citibike-tripdata.csv.zip',\n",
       " '201909-citibike-tripdata.csv.zip',\n",
       " 'JC-201509-citibike-tripdata.csv.zip',\n",
       " 'JC-201510-citibike-tripdata.csv.zip',\n",
       " 'JC-201511-citibike-tripdata.csv.zip',\n",
       " 'JC-201512-citibike-tripdata.csv.zip',\n",
       " 'JC-201601-citibike-tripdata.csv.zip',\n",
       " 'JC-201602-citibike-tripdata.csv.zip',\n",
       " 'JC-201603-citibike-tripdata.csv.zip',\n",
       " 'JC-201604-citibike-tripdata.csv.zip',\n",
       " 'JC-201605-citibike-tripdata.csv.zip',\n",
       " 'JC-201606-citibike-tripdata.csv.zip',\n",
       " 'JC-201607-citibike-tripdata.csv.zip',\n",
       " 'JC-201608-citibike-tripdata.csv.zip',\n",
       " 'JC-201609-citibike-tripdata.csv.zip',\n",
       " 'JC-201610-citibike-tripdata.csv.zip',\n",
       " 'JC-201611-citibike-tripdata.csv.zip',\n",
       " 'JC-201612-citibike-tripdata.csv.zip',\n",
       " 'JC-201701-citibike-tripdata.csv.zip',\n",
       " 'JC-201702-citibike-tripdata.csv.zip',\n",
       " 'JC-201703-citibike-tripdata.csv.zip',\n",
       " 'JC-201704-citibike-tripdata.csv.zip',\n",
       " 'JC-201705-citibike-tripdata.csv.zip',\n",
       " 'JC-201706-citibike-tripdata.csv.zip',\n",
       " 'JC-201707-citibike-tripdata.csv.zip',\n",
       " 'JC-201708 citibike-tripdata.csv.zip',\n",
       " 'JC-201709-citibike-tripdata.csv.zip',\n",
       " 'JC-201710-citibike-tripdata.csv.zip',\n",
       " 'JC-201711-citibike-tripdata.csv.zip',\n",
       " 'JC-201712-citibike-tripdata.csv.zip',\n",
       " 'JC-201801-citibike-tripdata.csv.zip',\n",
       " 'JC-201802-citibike-tripdata.csv.zip',\n",
       " 'JC-201803-citibike-tripdata.csv.zip',\n",
       " 'JC-201804-citibike-tripdata.csv.zip',\n",
       " 'JC-201805-citibike-tripdata.csv.zip',\n",
       " 'JC-201806-citibike-tripdata.csv.zip',\n",
       " 'JC-201807-citibike-tripdata.csv.zip',\n",
       " 'JC-201808-citibike-tripdata.csv.zip',\n",
       " 'JC-201809-citibike-tripdata.csv.zip',\n",
       " 'JC-201810-citibike-tripdata.csv.zip',\n",
       " 'JC-201811-citibike-tripdata.csv.zip',\n",
       " 'JC-201812-citibike-tripdata.csv.zip',\n",
       " 'JC-201901-citibike-tripdata.csv.zip',\n",
       " 'JC-201902-citibike-tripdata.csv.zip',\n",
       " 'JC-201903-citibike-tripdata.csv.zip',\n",
       " 'JC-201904-citibike-tripdata.csv.zip',\n",
       " 'JC-201905-citibike-tripdata.csv.zip',\n",
       " 'JC-201906-citibike-tripdata.csv.zip',\n",
       " 'JC-201907-citibike-tripdata.csv.zip',\n",
       " 'JC-201908-citibike-tripdata.csv.zip',\n",
       " 'JC-201909-citibike-tripdata.csv.zip']"
      ]
     },
     "execution_count": 3,
     "metadata": {},
     "output_type": "execute_result"
    }
   ],
   "source": [
    "import requests\n",
    "from bs4 import BeautifulSoup\n",
    "\n",
    "url = 'https://s3.amazonaws.com/tripdata/'\n",
    "\n",
    "# load url content into soup\n",
    "r = requests.get(url)\n",
    "soup = BeautifulSoup(r.text, 'xml')\n",
    "\n",
    "# extract file names from soup\n",
    "files = soup.find_all('Key')\n",
    "file_names = []\n",
    "for i in range(len(files)-1):\n",
    "    file_names.append(files[i].get_text())\n",
    "    \n",
    "file_names"
   ]
  },
  {
   "cell_type": "markdown",
   "metadata": {},
   "source": [
    "# Unzip files and load csvs into one file"
   ]
  },
  {
   "cell_type": "code",
   "execution_count": 4,
   "metadata": {},
   "outputs": [],
   "source": [
    "import os\n",
    "import zipfile\n",
    "\n",
    "# download & unzip data files\n",
    "for file in file_names:\n",
    "    file_url = url + file\n",
    "    #download files\n",
    "    with open(file, \"wb\") as f:\n",
    "            response = requests.get(file_url)\n",
    "            f.write(response.content)\n",
    "    # unzip data files\n",
    "    with zipfile.ZipFile(file, \"r\") as zip_ref:\n",
    "        zip_ref.extractall(\"../data/raw\")        \n",
    "    # remove zipped file after unziping\n",
    "    os.remove(file)"
   ]
  },
  {
   "cell_type": "markdown",
   "metadata": {},
   "source": [
    "# Rename files for easier reading"
   ]
  },
  {
   "cell_type": "code",
   "execution_count": 5,
   "metadata": {},
   "outputs": [
    {
     "data": {
      "text/plain": [
       "'jc_201909.csv'"
      ]
     },
     "execution_count": 5,
     "metadata": {},
     "output_type": "execute_result"
    }
   ],
   "source": [
    "import numpy as np\n",
    "import pandas as pd\n",
    " \n",
    "directory = '../data/raw'\n",
    "for file in os.listdir(directory):\n",
    "    filename = os.fsdecode(file)\n",
    "    if filename.endswith('.csv'):\n",
    "        new_filename = filename.replace(' ','').lower().split('ci', 1)[0].strip('-').replace('-','_')\n",
    "        os.rename(os.path.join(directory, filename), os.path.join(directory, new_filename + '.csv'))\n",
    "full_filename = new_filename + '.csv'\n",
    "full_filename"
   ]
  },
  {
   "cell_type": "code",
   "execution_count": 6,
   "metadata": {},
   "outputs": [
    {
     "data": {
      "text/plain": [
       "'../data/raw'"
      ]
     },
     "execution_count": 6,
     "metadata": {},
     "output_type": "execute_result"
    }
   ],
   "source": [
    "directory"
   ]
  },
  {
   "cell_type": "markdown",
   "metadata": {},
   "source": [
    "# Combine all csvs into one .txt file"
   ]
  },
  {
   "cell_type": "code",
   "execution_count": 7,
   "metadata": {},
   "outputs": [],
   "source": [
    "#https://www.rondebruin.nl/win/s3/win021.htm"
   ]
  },
  {
   "cell_type": "markdown",
   "metadata": {},
   "source": [
    "# Load .txt file into Tableau workbook, run visualizations and publish here:"
   ]
  },
  {
   "cell_type": "code",
   "execution_count": null,
   "metadata": {},
   "outputs": [],
   "source": [
    "#https://prod-useast-a.online.tableau.com/t/publishedcontent/views/CitiBikeAnalytics/CitibikeAnalytics?:showAppBanner=false&:display_count=n&:showVizHome=n&:origin=viz_share_link\n",
    "\n",
    "#NOTE:  Outlier data was kept for the visualization to demonstrate some of the issues with the dataset in \"Anomalies\""
   ]
  }
 ],
 "metadata": {
  "kernelspec": {
   "display_name": "Python 3",
   "language": "python",
   "name": "python3"
  },
  "language_info": {
   "codemirror_mode": {
    "name": "ipython",
    "version": 3
   },
   "file_extension": ".py",
   "mimetype": "text/x-python",
   "name": "python",
   "nbconvert_exporter": "python",
   "pygments_lexer": "ipython3",
   "version": "3.7.3"
  }
 },
 "nbformat": 4,
 "nbformat_minor": 2
}
