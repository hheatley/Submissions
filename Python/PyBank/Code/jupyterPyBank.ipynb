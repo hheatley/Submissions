{
 "cells": [
  {
   "cell_type": "code",
   "execution_count": 555,
   "metadata": {},
   "outputs": [
    {
     "name": "stdout",
     "output_type": "stream",
     "text": [
      "Financial Analysis\n",
      "------------------\n",
      "Total Months: 86\n",
      "Total Revenue: $ 38382578\n",
      "Avereage Change: $ -2315.12\n",
      "Greatest Increase in Revenue: Jan-2012 ($ Jan-2012 )\n",
      "Greatest Decrease in Revenue: Aug-2013 ($ Aug-2013 )\n"
     ]
    }
   ],
   "source": [
    "#master code\n",
    "\n",
    "#import and read csv file\n",
    "import os\n",
    "import csv\n",
    "\n",
    "csvpath = os.path.join('..', 'Code', 'budget_data.csv')\n",
    "\n",
    "with open(csvpath, newline='') as csvfile:\n",
    "    csvreader = csv.reader(csvfile, delimiter=',')\n",
    "    csv_header = next(csvreader)\n",
    "#The total number of months included in the dataset\n",
    "    uniqueMonths=[]\n",
    "    profitLoss = []\n",
    "    profitLossChange = []\n",
    "    for row in csvreader:\n",
    "        if row[0] not in uniqueMonths:\n",
    "            uniqueMonths.append(row[0])\n",
    " #The net total amount of \"Profit/Losses\" over the entire period           \n",
    "            profitLoss.append(int(row[1]))\n",
    " #The average of the changes in \"Profit/Losses\" over the entire period   \n",
    "    for i in range(1,len(profitLoss)):\n",
    "        profitLossChange.append(profitLoss[i] - profitLoss[i-1])   \n",
    "        profitLossAverage = sum(profitLossChange)/len(profitLossChange)\n",
    "        profitLossChangeMax = max(profitLossChange)\n",
    "        profitLossChangeMin = min(profitLossChange)\n",
    "        profitLossChangeMaxDate = str(uniqueMonths[profitLossChange.index(max(profitLossChange))])\n",
    "        profitLossChangeMinDate = str(uniqueMonths[profitLossChange.index(min(profitLossChange))])\n",
    "\n",
    "#print all loops\n",
    "    print(\"Financial Analysis\")\n",
    "    print(\"------------------\")\n",
    "    print('Total Months: ' + str(len(uniqueMonths)))\n",
    "    print(\"Total Revenue: $\", sum(profitLoss))\n",
    "    print(\"Avereage Change: $\", str(float(round(profitLossAverage,2))))\n",
    "    print(\"Greatest Increase in Revenue:\", str(profitLossChangeMaxDate),\"($\", str(profitLossChangeMaxDate),\")\")\n",
    "    print(\"Greatest Decrease in Revenue:\", str(profitLossChangeMinDate),\"($\", str(profitLossChangeMinDate),\")\")"
   ]
  },
  {
   "cell_type": "code",
   "execution_count": null,
   "metadata": {},
   "outputs": [],
   "source": [
    "#open and read csv file\n",
    "\n",
    "import os\n",
    "import csv\n",
    "\n",
    "csvpath = os.path.join('..', 'Code', 'budget_data.csv')\n",
    "\n",
    "with open(csvpath, newline='') as csvfile:\n",
    "    csvreader = csv.reader(csvfile, delimiter=',')\n",
    "\n",
    "    print(csvreader)\n",
    "\n",
    "    csv_header = next(csvreader)\n",
    "    print(f\"CSV Header: {csv_header}\")\n",
    "\n",
    "    for row in csvreader:\n",
    "        print (row)"
   ]
  },
  {
   "cell_type": "code",
   "execution_count": 534,
   "metadata": {},
   "outputs": [
    {
     "name": "stdout",
     "output_type": "stream",
     "text": [
      "Total Months: 86\n"
     ]
    }
   ],
   "source": [
    "#The total number of months included in the dataset\n",
    "\n",
    "with open(csvpath, newline='') as csvfile:\n",
    "    csvreader = csv.reader(csvfile, delimiter=',', skipinitialspace=True)\n",
    "    next(csvreader)\n",
    "    \n",
    "    uniqueMonths= []\n",
    "    for row in csvreader:\n",
    "        if row[0] not in uniqueMonths:\n",
    "            uniqueMonths.append(row[0])  \n",
    "    \n",
    "    print('Total Months: ' + str(len(uniqueMonths)))"
   ]
  },
  {
   "cell_type": "code",
   "execution_count": null,
   "metadata": {},
   "outputs": [],
   "source": [
    "#The net total amount of \"Profit/Losses\" over the entire period\n",
    "#cannot negotiate these handy dandy operators with the append method...so went with append method\n",
    "\n",
    "#with open(csvpath, newline='') as csvfile:\n",
    "    #csvreader = csv.reader(csvfile, delimiter=',', skipinitialspace=True)\n",
    "    #next(csvreader)\n",
    "    \n",
    "    #profitLoss = 0\n",
    "    #for row in csvreader:\n",
    "        #profitLoss += (int(row[1]))\n",
    "        \n",
    "    #print(\"Total Revenue: $\", str(int(profitLoss)))"
   ]
  },
  {
   "cell_type": "code",
   "execution_count": 549,
   "metadata": {},
   "outputs": [
    {
     "name": "stdout",
     "output_type": "stream",
     "text": [
      "Avereage Change: $ -2315.12\n"
     ]
    }
   ],
   "source": [
    "#The average of the changes in \"Profit/Losses\" over the entire period\n",
    "\n",
    "with open(csvpath, newline='') as csvfile:\n",
    "    csvreader = csv.reader(csvfile, delimiter=',', skipinitialspace=True)\n",
    "    next(csvreader)\n",
    "   \n",
    "    profitLoss = []\n",
    "    profitLossChange = []\n",
    "    profitLossChangeAverage = []\n",
    "    for i in range(1,len(profitLoss)):\n",
    "        profitLossChange.append(profitLoss[i] - profitLoss[i-1])   \n",
    "        profitLossAverage = sum(profitLossChange)/len(profitLossChange)\n",
    "        \n",
    "    print(\"Avereage Change: $\", str(float(round(profitLossAverage,2))))"
   ]
  },
  {
   "cell_type": "code",
   "execution_count": 552,
   "metadata": {},
   "outputs": [
    {
     "ename": "NameError",
     "evalue": "name 'profitLossChangeMaxDate' is not defined",
     "output_type": "error",
     "traceback": [
      "\u001b[1;31m---------------------------------------------------------------------------\u001b[0m",
      "\u001b[1;31mNameError\u001b[0m                                 Traceback (most recent call last)",
      "\u001b[1;32m<ipython-input-552-0425297725ac>\u001b[0m in \u001b[0;36m<module>\u001b[1;34m\u001b[0m\n\u001b[0;32m     14\u001b[0m         \u001b[0mprofitLossChangeMaxDate\u001b[0m \u001b[1;33m=\u001b[0m \u001b[0mstr\u001b[0m\u001b[1;33m(\u001b[0m\u001b[0muniqueMonths\u001b[0m\u001b[1;33m[\u001b[0m\u001b[0mprofitLossChange\u001b[0m\u001b[1;33m.\u001b[0m\u001b[0mindex\u001b[0m\u001b[1;33m(\u001b[0m\u001b[0mmax\u001b[0m\u001b[1;33m(\u001b[0m\u001b[0mprofitLossChange\u001b[0m\u001b[1;33m)\u001b[0m\u001b[1;33m)\u001b[0m\u001b[1;33m]\u001b[0m\u001b[1;33m)\u001b[0m\u001b[1;33m\u001b[0m\u001b[1;33m\u001b[0m\u001b[0m\n\u001b[0;32m     15\u001b[0m         \u001b[0mprofitLossChangeMinDate\u001b[0m \u001b[1;33m=\u001b[0m \u001b[0mstr\u001b[0m\u001b[1;33m(\u001b[0m\u001b[0muniqueMonths\u001b[0m\u001b[1;33m[\u001b[0m\u001b[0mprofitLossChange\u001b[0m\u001b[1;33m.\u001b[0m\u001b[0mindex\u001b[0m\u001b[1;33m(\u001b[0m\u001b[0mmin\u001b[0m\u001b[1;33m(\u001b[0m\u001b[0mprofitLossChange\u001b[0m\u001b[1;33m)\u001b[0m\u001b[1;33m)\u001b[0m\u001b[1;33m]\u001b[0m\u001b[1;33m)\u001b[0m\u001b[1;33m\u001b[0m\u001b[1;33m\u001b[0m\u001b[0m\n\u001b[1;32m---> 16\u001b[1;33m     \u001b[0mprint\u001b[0m\u001b[1;33m(\u001b[0m\u001b[1;34m\"Greatest Increase in Revenue:\"\u001b[0m\u001b[1;33m,\u001b[0m \u001b[0mstr\u001b[0m\u001b[1;33m(\u001b[0m\u001b[0mprofitLossChangeMaxDate\u001b[0m\u001b[1;33m)\u001b[0m\u001b[1;33m,\u001b[0m\u001b[1;34m\"($\"\u001b[0m\u001b[1;33m,\u001b[0m \u001b[0mstr\u001b[0m\u001b[1;33m(\u001b[0m\u001b[0mprofitLossChangeMaxDate\u001b[0m\u001b[1;33m)\u001b[0m\u001b[1;33m)\u001b[0m\u001b[1;33m\u001b[0m\u001b[1;33m\u001b[0m\u001b[0m\n\u001b[0m\u001b[0;32m     17\u001b[0m     \u001b[0mprint\u001b[0m\u001b[1;33m(\u001b[0m\u001b[1;34m\"Greatest Decrease in Revenue:\"\u001b[0m\u001b[1;33m,\u001b[0m \u001b[0mstr\u001b[0m\u001b[1;33m(\u001b[0m\u001b[0mprofitLossChangeMinDate\u001b[0m\u001b[1;33m)\u001b[0m\u001b[1;33m,\u001b[0m\u001b[1;34m\"($\"\u001b[0m\u001b[1;33m,\u001b[0m \u001b[0mstr\u001b[0m\u001b[1;33m(\u001b[0m\u001b[0mprofitLossChangeMinDate\u001b[0m\u001b[1;33m)\u001b[0m\u001b[1;33m)\u001b[0m\u001b[1;33m\u001b[0m\u001b[1;33m\u001b[0m\u001b[0m\n",
      "\u001b[1;31mNameError\u001b[0m: name 'profitLossChangeMaxDate' is not defined"
     ]
    }
   ],
   "source": [
    "#The greatest increase in profits (date and amount) over the entire period\n",
    "#The greatest decrease in losses (date and amount) over the entire period\n",
    "\n",
    "with open(csvpath, newline='') as csvfile:\n",
    "    csvreader = csv.reader(csvfile, delimiter=',', skipinitialspace=True)\n",
    "    next(csvreader)\n",
    "    \n",
    "    profitLoss = []\n",
    "    profitLossChange = []  \n",
    "    profitLossChangeAverage = []\n",
    "    for i in range(1,len(profitLoss)):\n",
    "        profitLossChangeMax = max(profitLossChange)\n",
    "        profitLossChangeMin = min(profitLossChange)\n",
    "        profitLossChangeMaxDate = str(uniqueMonths[profitLossChange.index(max(profitLossChange))])\n",
    "        profitLossChangeMinDate = str(uniqueMonths[profitLossChange.index(min(profitLossChange))])\n",
    "    print(\"Greatest Increase in Revenue:\", str(profitLossChangeMaxDate),\"($\", str(profitLossChangeMaxDate))\n",
    "    print(\"Greatest Decrease in Revenue:\", str(profitLossChangeMinDate),\"($\", str(profitLossChangeMinDate))"
   ]
  },
  {
   "cell_type": "code",
   "execution_count": null,
   "metadata": {
    "scrolled": true
   },
   "outputs": [],
   "source": [
    "print('Financial Analysis')\n",
    "print('------------------------------')\n",
    "print('Total Months: ' + str(len(uniqueMonths)))\n",
    "print(\"Total Revenue: $\", str(int(profitLoss)))\n",
    "print(\"Avereage Change: $\", str(float(round(profitLossAverage,2))))\n",
    "print(\"Greatest Increase in Revenue:\", str(profitLossChangeMaxDate),\"($\", str(profitLossChangeMaxDate))\n",
    "print(\"Greatest Decrease in Revenue:\", str(profitLossChangeMinDate),\"($\", str(profitLossChangeMinDate))                                                           "
   ]
  },
  {
   "cell_type": "code",
   "execution_count": null,
   "metadata": {},
   "outputs": [],
   "source": [
    "#Financial Analysis\n",
    "#----------------------------\n",
    "#Total Months: 86\n",
    "#Total: $38382578\n",
    "#Average  Change: $-2315.12\n",
    "#Greatest Increase in Profits: Feb-2012 ($1926159)\n",
    "#Greatest Decrease in Profits: Sep-2013 ($-2196167)\n"
   ]
  }
 ],
 "metadata": {
  "kernelspec": {
   "display_name": "Python 36 (py36)",
   "language": "python",
   "name": "py36"
  },
  "language_info": {
   "codemirror_mode": {
    "name": "ipython",
    "version": 3
   },
   "file_extension": ".py",
   "mimetype": "text/x-python",
   "name": "python",
   "nbconvert_exporter": "python",
   "pygments_lexer": "ipython3",
   "version": "3.6.8"
  }
 },
 "nbformat": 4,
 "nbformat_minor": 2
}
